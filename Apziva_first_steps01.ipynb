{
 "cells": [
  {
   "cell_type": "code",
   "execution_count": 340,
   "id": "dc7efc61",
   "metadata": {},
   "outputs": [],
   "source": [
    "#Template to install a conda package in the current Jupyter kernel - just use conda within happyenv in anaconda prompt\n",
    "import sys\n",
    "\n",
    "\n",
    "#Template - install a pip package in the current Jupyter kernel\n",
    "#import sys\n",
    "#!{sys.executable} -m pip install numpy"
   ]
  },
  {
   "cell_type": "markdown",
   "id": "3055286b",
   "metadata": {},
   "source": [
    "**Set Directory**"
   ]
  },
  {
   "cell_type": "code",
   "execution_count": 341,
   "id": "e4a44d5f",
   "metadata": {},
   "outputs": [
    {
     "name": "stdout",
     "output_type": "stream",
     "text": [
      "C:\\Users\\noahc\\Jupyter\\FirstSteps\n"
     ]
    }
   ],
   "source": [
    "%cd C:\\Users\\noahc\\Jupyter\\FirstSteps"
   ]
  },
  {
   "cell_type": "code",
   "execution_count": 342,
   "id": "a757ace6",
   "metadata": {},
   "outputs": [
    {
     "data": {
      "text/plain": [
       "['C:\\\\Users\\\\noahc',\n",
       " 'C:\\\\Users\\\\noahc\\\\anaconda3\\\\envs\\\\happyenv\\\\python38.zip',\n",
       " 'C:\\\\Users\\\\noahc\\\\anaconda3\\\\envs\\\\happyenv\\\\DLLs',\n",
       " 'C:\\\\Users\\\\noahc\\\\anaconda3\\\\envs\\\\happyenv\\\\lib',\n",
       " 'C:\\\\Users\\\\noahc\\\\anaconda3\\\\envs\\\\happyenv',\n",
       " '',\n",
       " 'C:\\\\Users\\\\noahc\\\\AppData\\\\Roaming\\\\Python\\\\Python38\\\\site-packages',\n",
       " 'C:\\\\Users\\\\noahc\\\\anaconda3\\\\envs\\\\happyenv\\\\lib\\\\site-packages',\n",
       " 'C:\\\\Users\\\\noahc\\\\anaconda3\\\\envs\\\\happyenv\\\\lib\\\\site-packages\\\\win32',\n",
       " 'C:\\\\Users\\\\noahc\\\\anaconda3\\\\envs\\\\happyenv\\\\lib\\\\site-packages\\\\win32\\\\lib',\n",
       " 'C:\\\\Users\\\\noahc\\\\anaconda3\\\\envs\\\\happyenv\\\\lib\\\\site-packages\\\\Pythonwin']"
      ]
     },
     "execution_count": 342,
     "metadata": {},
     "output_type": "execute_result"
    }
   ],
   "source": [
    "sys.path"
   ]
  },
  {
   "cell_type": "markdown",
   "id": "97dd10d9",
   "metadata": {},
   "source": [
    "**Import packages**"
   ]
  },
  {
   "cell_type": "code",
   "execution_count": 343,
   "id": "24816985",
   "metadata": {},
   "outputs": [],
   "source": [
    "import numpy as np\n",
    "import matplotlib.pyplot as plt\n",
    "import pandas as pd\n",
    "from sklearn.model_selection import GridSearchCV\n",
    "from sklearn.metrics import confusion_matrix, accuracy_score,classification_report\n",
    "from sklearn.discriminant_analysis import LinearDiscriminantAnalysis\n",
    "import seaborn as sns\n",
    "from featurewiz import featurewiz\n",
    "from sklearn.model_selection import *"
   ]
  },
  {
   "cell_type": "markdown",
   "id": "be382901",
   "metadata": {},
   "source": [
    "**Import data, perform visual check**"
   ]
  },
  {
   "cell_type": "code",
   "execution_count": 344,
   "id": "aeee402e",
   "metadata": {},
   "outputs": [
    {
     "data": {
      "text/html": [
       "<div>\n",
       "<style scoped>\n",
       "    .dataframe tbody tr th:only-of-type {\n",
       "        vertical-align: middle;\n",
       "    }\n",
       "\n",
       "    .dataframe tbody tr th {\n",
       "        vertical-align: top;\n",
       "    }\n",
       "\n",
       "    .dataframe thead th {\n",
       "        text-align: right;\n",
       "    }\n",
       "</style>\n",
       "<table border=\"1\" class=\"dataframe\">\n",
       "  <thead>\n",
       "    <tr style=\"text-align: right;\">\n",
       "      <th></th>\n",
       "      <th>Y</th>\n",
       "      <th>X1</th>\n",
       "      <th>X2</th>\n",
       "      <th>X3</th>\n",
       "      <th>X4</th>\n",
       "      <th>X5</th>\n",
       "      <th>X6</th>\n",
       "    </tr>\n",
       "  </thead>\n",
       "  <tbody>\n",
       "    <tr>\n",
       "      <th>0</th>\n",
       "      <td>0</td>\n",
       "      <td>3</td>\n",
       "      <td>3</td>\n",
       "      <td>3</td>\n",
       "      <td>4</td>\n",
       "      <td>2</td>\n",
       "      <td>4</td>\n",
       "    </tr>\n",
       "    <tr>\n",
       "      <th>1</th>\n",
       "      <td>0</td>\n",
       "      <td>3</td>\n",
       "      <td>2</td>\n",
       "      <td>3</td>\n",
       "      <td>5</td>\n",
       "      <td>4</td>\n",
       "      <td>3</td>\n",
       "    </tr>\n",
       "    <tr>\n",
       "      <th>2</th>\n",
       "      <td>1</td>\n",
       "      <td>5</td>\n",
       "      <td>3</td>\n",
       "      <td>3</td>\n",
       "      <td>3</td>\n",
       "      <td>3</td>\n",
       "      <td>5</td>\n",
       "    </tr>\n",
       "    <tr>\n",
       "      <th>3</th>\n",
       "      <td>0</td>\n",
       "      <td>5</td>\n",
       "      <td>4</td>\n",
       "      <td>3</td>\n",
       "      <td>3</td>\n",
       "      <td>3</td>\n",
       "      <td>5</td>\n",
       "    </tr>\n",
       "  </tbody>\n",
       "</table>\n",
       "</div>"
      ],
      "text/plain": [
       "   Y  X1  X2  X3  X4  X5  X6\n",
       "0  0   3   3   3   4   2   4\n",
       "1  0   3   2   3   5   4   3\n",
       "2  1   5   3   3   3   3   5\n",
       "3  0   5   4   3   3   3   5"
      ]
     },
     "execution_count": 344,
     "metadata": {},
     "output_type": "execute_result"
    }
   ],
   "source": [
    "df = pd.read_csv(\"ACME-HappinessSurvey2020.csv\")\n",
    "df.head(4)"
   ]
  },
  {
   "cell_type": "code",
   "execution_count": 345,
   "id": "24088497",
   "metadata": {},
   "outputs": [
    {
     "data": {
      "text/plain": [
       "'\\n# creating new feature with X1,X2 both 5\\na = (df[\"X1\"]==5)\\nb=(df[\"X2\"]==5)\\ndf[\\'X1X2\\'] = a&b\\ndf = df.replace(True, 1)\\ndf = df.replace(False, 0)\\n'"
      ]
     },
     "execution_count": 345,
     "metadata": {},
     "output_type": "execute_result"
    }
   ],
   "source": [
    "\"\"\"\n",
    "# creating new feature with X1,X2 both 5\n",
    "a = (df[\"X1\"]==5)\n",
    "b=(df[\"X2\"]==5)\n",
    "df['X1X2'] = a&b\n",
    "df = df.replace(True, 1)\n",
    "df = df.replace(False, 0)\n",
    "\"\"\""
   ]
  },
  {
   "cell_type": "code",
   "execution_count": 346,
   "id": "1ef5ba78",
   "metadata": {
    "scrolled": true
   },
   "outputs": [
    {
     "data": {
      "text/html": [
       "<div>\n",
       "<style scoped>\n",
       "    .dataframe tbody tr th:only-of-type {\n",
       "        vertical-align: middle;\n",
       "    }\n",
       "\n",
       "    .dataframe tbody tr th {\n",
       "        vertical-align: top;\n",
       "    }\n",
       "\n",
       "    .dataframe thead th {\n",
       "        text-align: right;\n",
       "    }\n",
       "</style>\n",
       "<table border=\"1\" class=\"dataframe\">\n",
       "  <thead>\n",
       "    <tr style=\"text-align: right;\">\n",
       "      <th></th>\n",
       "      <th>Y</th>\n",
       "      <th>X1</th>\n",
       "      <th>X2</th>\n",
       "      <th>X3</th>\n",
       "      <th>X4</th>\n",
       "      <th>X5</th>\n",
       "      <th>X6</th>\n",
       "    </tr>\n",
       "  </thead>\n",
       "  <tbody>\n",
       "    <tr>\n",
       "      <th>0</th>\n",
       "      <td>0</td>\n",
       "      <td>3</td>\n",
       "      <td>3</td>\n",
       "      <td>3</td>\n",
       "      <td>4</td>\n",
       "      <td>2</td>\n",
       "      <td>4</td>\n",
       "    </tr>\n",
       "    <tr>\n",
       "      <th>1</th>\n",
       "      <td>0</td>\n",
       "      <td>3</td>\n",
       "      <td>2</td>\n",
       "      <td>3</td>\n",
       "      <td>5</td>\n",
       "      <td>4</td>\n",
       "      <td>3</td>\n",
       "    </tr>\n",
       "    <tr>\n",
       "      <th>2</th>\n",
       "      <td>1</td>\n",
       "      <td>5</td>\n",
       "      <td>3</td>\n",
       "      <td>3</td>\n",
       "      <td>3</td>\n",
       "      <td>3</td>\n",
       "      <td>5</td>\n",
       "    </tr>\n",
       "    <tr>\n",
       "      <th>3</th>\n",
       "      <td>0</td>\n",
       "      <td>5</td>\n",
       "      <td>4</td>\n",
       "      <td>3</td>\n",
       "      <td>3</td>\n",
       "      <td>3</td>\n",
       "      <td>5</td>\n",
       "    </tr>\n",
       "    <tr>\n",
       "      <th>4</th>\n",
       "      <td>0</td>\n",
       "      <td>5</td>\n",
       "      <td>4</td>\n",
       "      <td>3</td>\n",
       "      <td>3</td>\n",
       "      <td>3</td>\n",
       "      <td>5</td>\n",
       "    </tr>\n",
       "    <tr>\n",
       "      <th>5</th>\n",
       "      <td>1</td>\n",
       "      <td>5</td>\n",
       "      <td>5</td>\n",
       "      <td>3</td>\n",
       "      <td>5</td>\n",
       "      <td>5</td>\n",
       "      <td>5</td>\n",
       "    </tr>\n",
       "    <tr>\n",
       "      <th>6</th>\n",
       "      <td>0</td>\n",
       "      <td>3</td>\n",
       "      <td>1</td>\n",
       "      <td>2</td>\n",
       "      <td>2</td>\n",
       "      <td>1</td>\n",
       "      <td>3</td>\n",
       "    </tr>\n",
       "    <tr>\n",
       "      <th>7</th>\n",
       "      <td>1</td>\n",
       "      <td>5</td>\n",
       "      <td>4</td>\n",
       "      <td>4</td>\n",
       "      <td>4</td>\n",
       "      <td>4</td>\n",
       "      <td>5</td>\n",
       "    </tr>\n",
       "    <tr>\n",
       "      <th>8</th>\n",
       "      <td>0</td>\n",
       "      <td>4</td>\n",
       "      <td>1</td>\n",
       "      <td>4</td>\n",
       "      <td>4</td>\n",
       "      <td>4</td>\n",
       "      <td>4</td>\n",
       "    </tr>\n",
       "    <tr>\n",
       "      <th>9</th>\n",
       "      <td>0</td>\n",
       "      <td>4</td>\n",
       "      <td>4</td>\n",
       "      <td>4</td>\n",
       "      <td>2</td>\n",
       "      <td>5</td>\n",
       "      <td>5</td>\n",
       "    </tr>\n",
       "    <tr>\n",
       "      <th>10</th>\n",
       "      <td>0</td>\n",
       "      <td>3</td>\n",
       "      <td>2</td>\n",
       "      <td>3</td>\n",
       "      <td>3</td>\n",
       "      <td>2</td>\n",
       "      <td>3</td>\n",
       "    </tr>\n",
       "    <tr>\n",
       "      <th>11</th>\n",
       "      <td>0</td>\n",
       "      <td>4</td>\n",
       "      <td>4</td>\n",
       "      <td>3</td>\n",
       "      <td>4</td>\n",
       "      <td>4</td>\n",
       "      <td>4</td>\n",
       "    </tr>\n",
       "    <tr>\n",
       "      <th>12</th>\n",
       "      <td>1</td>\n",
       "      <td>5</td>\n",
       "      <td>2</td>\n",
       "      <td>4</td>\n",
       "      <td>5</td>\n",
       "      <td>5</td>\n",
       "      <td>5</td>\n",
       "    </tr>\n",
       "    <tr>\n",
       "      <th>13</th>\n",
       "      <td>0</td>\n",
       "      <td>4</td>\n",
       "      <td>2</td>\n",
       "      <td>4</td>\n",
       "      <td>5</td>\n",
       "      <td>4</td>\n",
       "      <td>3</td>\n",
       "    </tr>\n",
       "    <tr>\n",
       "      <th>14</th>\n",
       "      <td>0</td>\n",
       "      <td>4</td>\n",
       "      <td>1</td>\n",
       "      <td>3</td>\n",
       "      <td>3</td>\n",
       "      <td>4</td>\n",
       "      <td>3</td>\n",
       "    </tr>\n",
       "    <tr>\n",
       "      <th>15</th>\n",
       "      <td>1</td>\n",
       "      <td>3</td>\n",
       "      <td>2</td>\n",
       "      <td>4</td>\n",
       "      <td>3</td>\n",
       "      <td>4</td>\n",
       "      <td>4</td>\n",
       "    </tr>\n",
       "    <tr>\n",
       "      <th>16</th>\n",
       "      <td>0</td>\n",
       "      <td>5</td>\n",
       "      <td>3</td>\n",
       "      <td>4</td>\n",
       "      <td>5</td>\n",
       "      <td>4</td>\n",
       "      <td>5</td>\n",
       "    </tr>\n",
       "    <tr>\n",
       "      <th>17</th>\n",
       "      <td>1</td>\n",
       "      <td>5</td>\n",
       "      <td>1</td>\n",
       "      <td>4</td>\n",
       "      <td>3</td>\n",
       "      <td>4</td>\n",
       "      <td>5</td>\n",
       "    </tr>\n",
       "    <tr>\n",
       "      <th>18</th>\n",
       "      <td>0</td>\n",
       "      <td>5</td>\n",
       "      <td>1</td>\n",
       "      <td>2</td>\n",
       "      <td>4</td>\n",
       "      <td>4</td>\n",
       "      <td>5</td>\n",
       "    </tr>\n",
       "    <tr>\n",
       "      <th>19</th>\n",
       "      <td>0</td>\n",
       "      <td>4</td>\n",
       "      <td>2</td>\n",
       "      <td>4</td>\n",
       "      <td>4</td>\n",
       "      <td>4</td>\n",
       "      <td>4</td>\n",
       "    </tr>\n",
       "    <tr>\n",
       "      <th>20</th>\n",
       "      <td>1</td>\n",
       "      <td>4</td>\n",
       "      <td>2</td>\n",
       "      <td>3</td>\n",
       "      <td>3</td>\n",
       "      <td>4</td>\n",
       "      <td>4</td>\n",
       "    </tr>\n",
       "    <tr>\n",
       "      <th>21</th>\n",
       "      <td>0</td>\n",
       "      <td>4</td>\n",
       "      <td>3</td>\n",
       "      <td>5</td>\n",
       "      <td>5</td>\n",
       "      <td>5</td>\n",
       "      <td>4</td>\n",
       "    </tr>\n",
       "    <tr>\n",
       "      <th>22</th>\n",
       "      <td>0</td>\n",
       "      <td>4</td>\n",
       "      <td>3</td>\n",
       "      <td>5</td>\n",
       "      <td>5</td>\n",
       "      <td>5</td>\n",
       "      <td>4</td>\n",
       "    </tr>\n",
       "    <tr>\n",
       "      <th>23</th>\n",
       "      <td>1</td>\n",
       "      <td>5</td>\n",
       "      <td>1</td>\n",
       "      <td>2</td>\n",
       "      <td>5</td>\n",
       "      <td>2</td>\n",
       "      <td>4</td>\n",
       "    </tr>\n",
       "    <tr>\n",
       "      <th>24</th>\n",
       "      <td>1</td>\n",
       "      <td>4</td>\n",
       "      <td>3</td>\n",
       "      <td>3</td>\n",
       "      <td>3</td>\n",
       "      <td>3</td>\n",
       "      <td>4</td>\n",
       "    </tr>\n",
       "    <tr>\n",
       "      <th>25</th>\n",
       "      <td>0</td>\n",
       "      <td>3</td>\n",
       "      <td>4</td>\n",
       "      <td>3</td>\n",
       "      <td>3</td>\n",
       "      <td>2</td>\n",
       "      <td>3</td>\n",
       "    </tr>\n",
       "    <tr>\n",
       "      <th>26</th>\n",
       "      <td>1</td>\n",
       "      <td>3</td>\n",
       "      <td>3</td>\n",
       "      <td>3</td>\n",
       "      <td>5</td>\n",
       "      <td>5</td>\n",
       "      <td>5</td>\n",
       "    </tr>\n",
       "    <tr>\n",
       "      <th>27</th>\n",
       "      <td>1</td>\n",
       "      <td>3</td>\n",
       "      <td>3</td>\n",
       "      <td>1</td>\n",
       "      <td>3</td>\n",
       "      <td>3</td>\n",
       "      <td>4</td>\n",
       "    </tr>\n",
       "    <tr>\n",
       "      <th>28</th>\n",
       "      <td>1</td>\n",
       "      <td>3</td>\n",
       "      <td>3</td>\n",
       "      <td>1</td>\n",
       "      <td>3</td>\n",
       "      <td>3</td>\n",
       "      <td>4</td>\n",
       "    </tr>\n",
       "    <tr>\n",
       "      <th>29</th>\n",
       "      <td>1</td>\n",
       "      <td>5</td>\n",
       "      <td>3</td>\n",
       "      <td>3</td>\n",
       "      <td>3</td>\n",
       "      <td>5</td>\n",
       "      <td>3</td>\n",
       "    </tr>\n",
       "    <tr>\n",
       "      <th>30</th>\n",
       "      <td>0</td>\n",
       "      <td>5</td>\n",
       "      <td>3</td>\n",
       "      <td>3</td>\n",
       "      <td>3</td>\n",
       "      <td>5</td>\n",
       "      <td>3</td>\n",
       "    </tr>\n",
       "    <tr>\n",
       "      <th>31</th>\n",
       "      <td>0</td>\n",
       "      <td>4</td>\n",
       "      <td>1</td>\n",
       "      <td>3</td>\n",
       "      <td>4</td>\n",
       "      <td>4</td>\n",
       "      <td>5</td>\n",
       "    </tr>\n",
       "    <tr>\n",
       "      <th>32</th>\n",
       "      <td>1</td>\n",
       "      <td>3</td>\n",
       "      <td>2</td>\n",
       "      <td>4</td>\n",
       "      <td>4</td>\n",
       "      <td>4</td>\n",
       "      <td>5</td>\n",
       "    </tr>\n",
       "    <tr>\n",
       "      <th>33</th>\n",
       "      <td>1</td>\n",
       "      <td>3</td>\n",
       "      <td>2</td>\n",
       "      <td>4</td>\n",
       "      <td>4</td>\n",
       "      <td>4</td>\n",
       "      <td>5</td>\n",
       "    </tr>\n",
       "    <tr>\n",
       "      <th>34</th>\n",
       "      <td>1</td>\n",
       "      <td>4</td>\n",
       "      <td>1</td>\n",
       "      <td>3</td>\n",
       "      <td>1</td>\n",
       "      <td>1</td>\n",
       "      <td>4</td>\n",
       "    </tr>\n",
       "    <tr>\n",
       "      <th>35</th>\n",
       "      <td>0</td>\n",
       "      <td>4</td>\n",
       "      <td>2</td>\n",
       "      <td>3</td>\n",
       "      <td>3</td>\n",
       "      <td>4</td>\n",
       "      <td>4</td>\n",
       "    </tr>\n",
       "    <tr>\n",
       "      <th>36</th>\n",
       "      <td>1</td>\n",
       "      <td>5</td>\n",
       "      <td>3</td>\n",
       "      <td>4</td>\n",
       "      <td>3</td>\n",
       "      <td>4</td>\n",
       "      <td>5</td>\n",
       "    </tr>\n",
       "    <tr>\n",
       "      <th>37</th>\n",
       "      <td>1</td>\n",
       "      <td>5</td>\n",
       "      <td>3</td>\n",
       "      <td>4</td>\n",
       "      <td>3</td>\n",
       "      <td>4</td>\n",
       "      <td>5</td>\n",
       "    </tr>\n",
       "    <tr>\n",
       "      <th>38</th>\n",
       "      <td>1</td>\n",
       "      <td>5</td>\n",
       "      <td>2</td>\n",
       "      <td>3</td>\n",
       "      <td>3</td>\n",
       "      <td>2</td>\n",
       "      <td>5</td>\n",
       "    </tr>\n",
       "    <tr>\n",
       "      <th>39</th>\n",
       "      <td>1</td>\n",
       "      <td>4</td>\n",
       "      <td>4</td>\n",
       "      <td>3</td>\n",
       "      <td>4</td>\n",
       "      <td>2</td>\n",
       "      <td>4</td>\n",
       "    </tr>\n",
       "  </tbody>\n",
       "</table>\n",
       "</div>"
      ],
      "text/plain": [
       "    Y  X1  X2  X3  X4  X5  X6\n",
       "0   0   3   3   3   4   2   4\n",
       "1   0   3   2   3   5   4   3\n",
       "2   1   5   3   3   3   3   5\n",
       "3   0   5   4   3   3   3   5\n",
       "4   0   5   4   3   3   3   5\n",
       "5   1   5   5   3   5   5   5\n",
       "6   0   3   1   2   2   1   3\n",
       "7   1   5   4   4   4   4   5\n",
       "8   0   4   1   4   4   4   4\n",
       "9   0   4   4   4   2   5   5\n",
       "10  0   3   2   3   3   2   3\n",
       "11  0   4   4   3   4   4   4\n",
       "12  1   5   2   4   5   5   5\n",
       "13  0   4   2   4   5   4   3\n",
       "14  0   4   1   3   3   4   3\n",
       "15  1   3   2   4   3   4   4\n",
       "16  0   5   3   4   5   4   5\n",
       "17  1   5   1   4   3   4   5\n",
       "18  0   5   1   2   4   4   5\n",
       "19  0   4   2   4   4   4   4\n",
       "20  1   4   2   3   3   4   4\n",
       "21  0   4   3   5   5   5   4\n",
       "22  0   4   3   5   5   5   4\n",
       "23  1   5   1   2   5   2   4\n",
       "24  1   4   3   3   3   3   4\n",
       "25  0   3   4   3   3   2   3\n",
       "26  1   3   3   3   5   5   5\n",
       "27  1   3   3   1   3   3   4\n",
       "28  1   3   3   1   3   3   4\n",
       "29  1   5   3   3   3   5   3\n",
       "30  0   5   3   3   3   5   3\n",
       "31  0   4   1   3   4   4   5\n",
       "32  1   3   2   4   4   4   5\n",
       "33  1   3   2   4   4   4   5\n",
       "34  1   4   1   3   1   1   4\n",
       "35  0   4   2   3   3   4   4\n",
       "36  1   5   3   4   3   4   5\n",
       "37  1   5   3   4   3   4   5\n",
       "38  1   5   2   3   3   2   5\n",
       "39  1   4   4   3   4   2   4"
      ]
     },
     "execution_count": 346,
     "metadata": {},
     "output_type": "execute_result"
    }
   ],
   "source": [
    "df.head(40)"
   ]
  },
  {
   "cell_type": "markdown",
   "id": "ef92010c",
   "metadata": {},
   "source": [
    "**Remove some outliers**"
   ]
  },
  {
   "cell_type": "code",
   "execution_count": 347,
   "id": "d6258727",
   "metadata": {},
   "outputs": [
    {
     "name": "stdout",
     "output_type": "stream",
     "text": [
      "            Y       X1        X2        X3        X4        X5        X6\n",
      "0    1.100239  1.67332  0.421676  0.303642  0.291150  1.444166  0.315061\n",
      "1    1.100239  1.67332  0.478852  0.303642  1.437552  0.305497  1.555612\n",
      "2    0.908893  0.83666  0.421676  0.303642  0.855253  0.569335  0.925491\n",
      "3    1.100239  0.83666  1.322205  0.303642  0.855253  0.569335  0.925491\n",
      "4    1.100239  0.83666  1.322205  0.303642  0.855253  0.569335  0.925491\n",
      "..        ...      ...       ...       ...       ...       ...       ...\n",
      "121  0.908893  0.83666  0.478852  0.303642  0.291150  0.305497  1.555612\n",
      "122  0.908893  0.83666  0.478852  0.303642  0.291150  1.444166  0.925491\n",
      "123  0.908893  0.83666  0.421676  0.303642  0.291150  0.305497  0.925491\n",
      "124  1.100239  0.41833  0.421676  0.303642  0.291150  0.305497  0.925491\n",
      "125  1.100239  0.83666  0.421676  1.284640  1.437552  1.180328  0.925491\n",
      "\n",
      "[126 rows x 7 columns]\n"
     ]
    }
   ],
   "source": [
    "from scipy import stats\n",
    "z=np.abs(stats.zscore(df))\n",
    "print(z)"
   ]
  },
  {
   "cell_type": "code",
   "execution_count": 348,
   "id": "e8fafa79",
   "metadata": {},
   "outputs": [
    {
     "name": "stdout",
     "output_type": "stream",
     "text": [
      "(array([ 34,  47, 119, 119], dtype=int64), array([4, 1, 4, 6], dtype=int64))\n"
     ]
    }
   ],
   "source": [
    "threshold = 3\n",
    "print(np.where(z > 3))"
   ]
  },
  {
   "cell_type": "code",
   "execution_count": 349,
   "id": "2d4ae7f1",
   "metadata": {},
   "outputs": [],
   "source": [
    "dfd = df.drop([34,47,119])"
   ]
  },
  {
   "cell_type": "code",
   "execution_count": 350,
   "id": "a662ad05",
   "metadata": {},
   "outputs": [],
   "source": [
    "#inputs = dfd.drop('Y', axis='columns')\n",
    "#target = dfd['Y']"
   ]
  },
  {
   "cell_type": "markdown",
   "id": "efa339e0",
   "metadata": {},
   "source": [
    "**Assign input and target variables**"
   ]
  },
  {
   "cell_type": "code",
   "execution_count": 351,
   "id": "74b20487",
   "metadata": {},
   "outputs": [],
   "source": [
    "inputs = df.drop('Y', axis='columns')\n",
    "target = df['Y']"
   ]
  },
  {
   "cell_type": "markdown",
   "id": "a80192e7",
   "metadata": {},
   "source": [
    "**Split the original data**"
   ]
  },
  {
   "cell_type": "code",
   "execution_count": 352,
   "id": "8c8dd6a1",
   "metadata": {},
   "outputs": [],
   "source": [
    "from sklearn.model_selection import train_test_split\n",
    "X_train, X_test, y_train, y_test = train_test_split(inputs, target, test_size = 0.2, random_state=0)"
   ]
  },
  {
   "cell_type": "markdown",
   "id": "e78b31fd",
   "metadata": {},
   "source": [
    "**Select features from split data**"
   ]
  },
  {
   "cell_type": "code",
   "execution_count": 353,
   "id": "24241954",
   "metadata": {},
   "outputs": [],
   "source": [
    "#X_selected_train=X_train.drop(columns=['X3','X6'])\n",
    "#X_selected_test=X_test.drop(columns=['X3','X6'])"
   ]
  },
  {
   "cell_type": "code",
   "execution_count": 354,
   "id": "5d4c37f1",
   "metadata": {},
   "outputs": [
    {
     "data": {
      "text/plain": [
       "\"\\nX_train=train.drop('Y', axis='columns')\\nX_test=test.drop('Y', axis='columns')\\ny_train=train['Y']\\ny_test=test['Y']\\n\""
      ]
     },
     "execution_count": 354,
     "metadata": {},
     "output_type": "execute_result"
    }
   ],
   "source": [
    "\"\"\"\n",
    "X_train=train.drop('Y', axis='columns')\n",
    "X_test=test.drop('Y', axis='columns')\n",
    "y_train=train['Y']\n",
    "y_test=test['Y']\n",
    "\"\"\""
   ]
  },
  {
   "cell_type": "markdown",
   "id": "1e034fe6",
   "metadata": {},
   "source": [
    "**Scale all the data**"
   ]
  },
  {
   "cell_type": "code",
   "execution_count": 355,
   "id": "cfb416c1",
   "metadata": {},
   "outputs": [],
   "source": [
    "from sklearn.preprocessing import StandardScaler\n",
    "sc = StandardScaler()\n",
    "inputs_sc = sc.fit_transform(inputs)\n",
    "X_train_sc = sc.fit_transform(X_train)\n",
    "X_test_sc = sc.transform(X_test)"
   ]
  },
  {
   "cell_type": "code",
   "execution_count": 356,
   "id": "4097b019",
   "metadata": {},
   "outputs": [],
   "source": [
    "#Scale all the data\n",
    "#from sklearn.preprocessing import StandardScaler\n",
    "#sc = StandardScaler()\n",
    "#X1_train2 = sc.fit_transform(X_selected_train)\n",
    "#X1_test2 = sc.transform(X_selected_test)"
   ]
  },
  {
   "cell_type": "markdown",
   "id": "1b7034a4",
   "metadata": {},
   "source": [
    "**XGBoost Classifier**"
   ]
  },
  {
   "cell_type": "code",
   "execution_count": 357,
   "id": "23715b11",
   "metadata": {},
   "outputs": [],
   "source": [
    "from xgboost import XGBClassifier\n",
    "\n",
    "xg = XGBClassifier(\n",
    "    max_depth=2,\n",
    "    gamma=2,\n",
    "    eta=.8,\n",
    "    reg_alpha=0.5,\n",
    "    reg_lambda=0.5\n",
    ")\n"
   ]
  },
  {
   "cell_type": "code",
   "execution_count": 358,
   "id": "aca6757a",
   "metadata": {},
   "outputs": [
    {
     "data": {
      "text/plain": [
       "XGBClassifier(base_score=0.5, booster='gbtree', callbacks=None,\n",
       "              colsample_bylevel=1, colsample_bynode=1, colsample_bytree=1,\n",
       "              early_stopping_rounds=None, enable_categorical=False, eta=0.8,\n",
       "              eval_metric=None, gamma=2, gpu_id=-1, grow_policy='depthwise',\n",
       "              importance_type=None, interaction_constraints='',\n",
       "              learning_rate=0.800000012, max_bin=256, max_cat_to_onehot=4,\n",
       "              max_delta_step=0, max_depth=2, max_leaves=0, min_child_weight=1,\n",
       "              missing=nan, monotone_constraints='()', n_estimators=100,\n",
       "              n_jobs=0, num_parallel_tree=1, predictor='auto', random_state=0,\n",
       "              reg_alpha=0.5, ...)"
      ]
     },
     "execution_count": 358,
     "metadata": {},
     "output_type": "execute_result"
    }
   ],
   "source": [
    "xg.fit(X_train_sc, y_train)"
   ]
  },
  {
   "cell_type": "code",
   "execution_count": 359,
   "id": "3b57ec60",
   "metadata": {},
   "outputs": [
    {
     "data": {
      "text/plain": [
       "0.67"
      ]
     },
     "execution_count": 359,
     "metadata": {},
     "output_type": "execute_result"
    }
   ],
   "source": [
    "xg.score(X_train_sc, y_train)"
   ]
  },
  {
   "cell_type": "code",
   "execution_count": 360,
   "id": "060705b7",
   "metadata": {},
   "outputs": [
    {
     "data": {
      "text/plain": [
       "0.7307692307692307"
      ]
     },
     "execution_count": 360,
     "metadata": {},
     "output_type": "execute_result"
    }
   ],
   "source": [
    "xg.score(X_test_sc, y_test)"
   ]
  },
  {
   "cell_type": "code",
   "execution_count": 361,
   "id": "2d8e7f4e",
   "metadata": {},
   "outputs": [],
   "source": [
    "xg_pred = xg.predict(inputs_sc)"
   ]
  },
  {
   "cell_type": "code",
   "execution_count": 362,
   "id": "43b3c4a1",
   "metadata": {},
   "outputs": [],
   "source": [
    "xg_test_pred = xg.predict(X_test_sc)"
   ]
  },
  {
   "cell_type": "code",
   "execution_count": 363,
   "id": "5f301df9",
   "metadata": {},
   "outputs": [
    {
     "data": {
      "text/plain": [
       "0.7307692307692307"
      ]
     },
     "execution_count": 363,
     "metadata": {},
     "output_type": "execute_result"
    }
   ],
   "source": [
    "xg.score(X_test_sc, y_test)"
   ]
  },
  {
   "cell_type": "code",
   "execution_count": 364,
   "id": "f7be92f2",
   "metadata": {},
   "outputs": [
    {
     "data": {
      "image/png": "[encoded data removed]",
      "text/plain": [
       "<Figure size 640x480 with 2 Axes>"
      ]
     },
     "metadata": {},
     "output_type": "display_data"
    }
   ],
   "source": [
    "xg_cm = confusion_matrix(target, xg_pred)\n",
    "ax= plt.subplot()\n",
    "sns.heatmap(xg_cm, cmap = 'Greens', annot=True, fmt='g', ax=ax);  #annot=True to annotate cells, ftm='g' to disable scientific notation\n",
    "\n",
    "# labels, title and ticks\n",
    "ax.set_xlabel('Predicted labels');ax.set_ylabel('True labels'); \n",
    "ax.set_title('Confusion Matrix'); \n",
    "ax.xaxis.set_ticklabels(['Unhappy','Happy']); ax.yaxis.set_ticklabels(['Unhappy', 'Happy']);"
   ]
  },
  {
   "cell_type": "code",
   "execution_count": 365,
   "id": "b7392b6d",
   "metadata": {},
   "outputs": [
    {
     "data": {
      "image/png": "[encoded data removed]",
      "text/plain": [
       "<Figure size 640x480 with 2 Axes>"
      ]
     },
     "metadata": {},
     "output_type": "display_data"
    }
   ],
   "source": [
    "xg_test_cm = confusion_matrix(y_test, xg_test_pred)\n",
    "ax= plt.subplot()\n",
    "sns.heatmap(xg_test_cm, cmap = 'Greens', annot=True, fmt='g', ax=ax);  #annot=True to annotate cells, ftm='g' to disable scientific notation\n",
    "\n",
    "# labels, title and ticks\n",
    "ax.set_xlabel('Predicted labels');ax.set_ylabel('True labels'); \n",
    "ax.set_title('Confusion Matrix'); \n",
    "ax.xaxis.set_ticklabels(['Unhappy','Happy']); ax.yaxis.set_ticklabels(['Unhappy', 'Happy']);"
   ]
  },
  {
   "cell_type": "markdown",
   "id": "78be6dd4",
   "metadata": {},
   "source": [
    "**SVM Classifier**"
   ]
  },
  {
   "cell_type": "code",
   "execution_count": 366,
   "id": "0faa6fe1",
   "metadata": {},
   "outputs": [
    {
     "data": {
      "text/plain": [
       "SVC(C=1.00095, gamma=1e-15, kernel='linear')"
      ]
     },
     "execution_count": 366,
     "metadata": {},
     "output_type": "execute_result"
    }
   ],
   "source": [
    "from sklearn.svm import SVC\n",
    "svm = SVC(kernel = 'linear', C=1.00095, gamma = 1e-15 )\n",
    "svm.fit(X_train_sc, y_train)"
   ]
  },
  {
   "cell_type": "code",
   "execution_count": 367,
   "id": "85012659",
   "metadata": {},
   "outputs": [
    {
     "data": {
      "text/plain": [
       "0.7692307692307693"
      ]
     },
     "execution_count": 367,
     "metadata": {},
     "output_type": "execute_result"
    }
   ],
   "source": [
    "svm.score(X_test_sc, y_test)"
   ]
  },
  {
   "cell_type": "code",
   "execution_count": 368,
   "id": "c2c89969",
   "metadata": {},
   "outputs": [
    {
     "data": {
      "text/plain": [
       "0.63"
      ]
     },
     "execution_count": 368,
     "metadata": {},
     "output_type": "execute_result"
    }
   ],
   "source": [
    "svm.score(X_train_sc, y_train)"
   ]
  },
  {
   "cell_type": "code",
   "execution_count": 369,
   "id": "1e0d737c",
   "metadata": {},
   "outputs": [],
   "source": [
    "svm_pred = svm.predict(inputs_sc)"
   ]
  },
  {
   "cell_type": "code",
   "execution_count": 370,
   "id": "af3771d0",
   "metadata": {},
   "outputs": [],
   "source": [
    "svm_test_pred = svm.predict(X_test_sc)"
   ]
  },
  {
   "cell_type": "code",
   "execution_count": 371,
   "id": "bc37b460",
   "metadata": {},
   "outputs": [
    {
     "data": {
      "text/plain": [
       "array([0, 1, 1, 1, 1, 0, 1, 1, 1, 0, 0, 0, 0, 1, 1, 1, 1, 0, 0, 1, 1, 1,\n",
       "       0, 1, 1, 1], dtype=int64)"
      ]
     },
     "execution_count": 371,
     "metadata": {},
     "output_type": "execute_result"
    }
   ],
   "source": [
    "svm.predict(X_test_sc)"
   ]
  },
  {
   "cell_type": "code",
   "execution_count": 372,
   "id": "24128dcb",
   "metadata": {},
   "outputs": [
    {
     "data": {
      "image/png": "[encoded data removed]",
      "text/plain": [
       "<Figure size 640x480 with 2 Axes>"
      ]
     },
     "metadata": {},
     "output_type": "display_data"
    }
   ],
   "source": [
    "svm_cm = confusion_matrix(target, svm_pred)\n",
    "ax= plt.subplot()\n",
    "sns.heatmap(svm_cm, cmap = 'Greens', annot=True, fmt='g', ax=ax);  #annot=True to annotate cells, ftm='g' to disable scientific notation\n",
    "\n",
    "# labels, title and ticks\n",
    "ax.set_xlabel('Predicted labels');ax.set_ylabel('True labels'); \n",
    "ax.set_title('Confusion Matrix'); \n",
    "ax.xaxis.set_ticklabels(['Unhappy','Happy']); ax.yaxis.set_ticklabels(['Unhappy', 'Happy']);"
   ]
  },
  {
   "cell_type": "code",
   "execution_count": 373,
   "id": "cbccb6fa",
   "metadata": {},
   "outputs": [
    {
     "data": {
      "image/png": "[encoded data removed]",
      "text/plain": [
       "<Figure size 640x480 with 2 Axes>"
      ]
     },
     "metadata": {},
     "output_type": "display_data"
    }
   ],
   "source": [
    "svm_test_cm = confusion_matrix(y_test, svm_test_pred)\n",
    "ax= plt.subplot()\n",
    "sns.heatmap(svm_test_cm, cmap = 'Greens', annot=True, fmt='g', ax=ax);  #annot=True to annotate cells, ftm='g' to disable scientific notation\n",
    "\n",
    "# labels, title and ticks\n",
    "ax.set_xlabel('Predicted labels');ax.set_ylabel('True labels'); \n",
    "ax.set_title('Confusion Matrix'); \n",
    "ax.xaxis.set_ticklabels(['Unhappy','Happy']); ax.yaxis.set_ticklabels(['Unhappy', 'Happy']);"
   ]
  },
  {
   "cell_type": "markdown",
   "id": "c4518d08",
   "metadata": {},
   "source": [
    "**End of fitted models**\n",
    "rest of notebook is scratch"
   ]
  },
  {
   "cell_type": "markdown",
   "id": "60bbdaf6",
   "metadata": {},
   "source": []
  },
  {
   "cell_type": "markdown",
   "id": "52a9b453",
   "metadata": {},
   "source": []
  },
  {
   "cell_type": "markdown",
   "id": "3e9174ca",
   "metadata": {},
   "source": []
  },
  {
   "cell_type": "markdown",
   "id": "f75f5485",
   "metadata": {},
   "source": []
  },
  {
   "cell_type": "markdown",
   "id": "417333a9",
   "metadata": {},
   "source": []
  },
  {
   "cell_type": "markdown",
   "id": "c28bcd32",
   "metadata": {},
   "source": []
  },
  {
   "cell_type": "markdown",
   "id": "be959221",
   "metadata": {},
   "source": [
    "**Poly kernel for SVM (poor performance)**"
   ]
  },
  {
   "cell_type": "code",
   "execution_count": 374,
   "id": "45bbbada",
   "metadata": {},
   "outputs": [],
   "source": [
    "polysvm= SVC(kernel = 'poly', C=1, gamma=.8, degree = 4)"
   ]
  },
  {
   "cell_type": "code",
   "execution_count": 375,
   "id": "2e20ca4d",
   "metadata": {},
   "outputs": [
    {
     "data": {
      "text/plain": [
       "SVC(C=1, degree=4, gamma=0.8, kernel='poly')"
      ]
     },
     "execution_count": 375,
     "metadata": {},
     "output_type": "execute_result"
    }
   ],
   "source": [
    "polysvm.fit(X_train_sc, y_train)"
   ]
  },
  {
   "cell_type": "code",
   "execution_count": 376,
   "id": "1875c199",
   "metadata": {},
   "outputs": [
    {
     "data": {
      "text/plain": [
       "0.5384615384615384"
      ]
     },
     "execution_count": 376,
     "metadata": {},
     "output_type": "execute_result"
    }
   ],
   "source": [
    "polysvm.score(X_test_sc, y_test)"
   ]
  },
  {
   "cell_type": "code",
   "execution_count": 377,
   "id": "e5a8974e",
   "metadata": {},
   "outputs": [
    {
     "name": "stdout",
     "output_type": "stream",
     "text": [
      "[-0.6227471  -0.52436568 -0.48857273 -0.45142757 -0.55619936 -0.57813259\n",
      " -0.4377679  -0.46122781 -0.5090963  -0.48876593 -0.46155035 -0.52579542\n",
      " -0.64477639 -0.55920382 -0.52196217 -0.52392437 -0.4451082  -0.44689731\n",
      " -0.40216909 -0.49165814 -0.51005592 -0.4805881  -0.76503846 -0.44181472\n",
      " -0.57328612 -0.46293773 -0.4377679  -0.5812898  -0.53493061 -0.52324499\n",
      " -0.4778395  -0.41608113 -0.48728672 -0.46155035 -0.47438602 -0.451072\n",
      " -0.41827618 -0.49805402 -0.46293773 -0.54631772 -0.41827618 -0.48530151\n",
      " -0.45081923 -0.48407908 -0.63674079 -0.51005592 -0.44793447 -0.41426223\n",
      " -0.57992677 -0.46756436 -0.45191257 -0.51035527 -0.46890138 -0.50159595\n",
      " -0.41958468 -0.48857273 -0.48873355 -0.49661842 -0.40187957 -0.41958468\n",
      " -0.51795457 -0.44689731 -0.54372597 -0.41958468 -0.48327042 -0.42507519\n",
      " -0.52392437 -0.49677349 -0.44538969 -0.41426223 -0.39914384 -0.43823117\n",
      " -0.46275946 -0.55496073 -0.42263833 -0.4551777  -0.40216909 -0.40216909\n",
      " -0.45117342 -0.4778879  -0.43660986 -0.42506072 -0.52574059 -0.46113303\n",
      " -0.42420951 -0.50152505 -0.41052251 -0.49063114 -0.42263833 -0.45014507\n",
      " -0.55928802 -0.47024937 -0.56597225 -0.44009838 -0.46802448 -0.53813104\n",
      " -0.42506072 -0.49165814 -0.6807749  -0.56357153]\n"
     ]
    }
   ],
   "source": [
    "from sklearn.ensemble import IsolationForest\n",
    "\n",
    "isf = IsolationForest(n_jobs=-1, random_state=1)\n",
    "isf.fit(X_train_sc, y_train)\n",
    "\n",
    "print(isf.score_samples(X_train_sc))"
   ]
  },
  {
   "cell_type": "code",
   "execution_count": 378,
   "id": "17764ad1",
   "metadata": {},
   "outputs": [],
   "source": [
    "outliers=isf.fit_predict(X_train_sc)"
   ]
  },
  {
   "cell_type": "code",
   "execution_count": 379,
   "id": "9617e176",
   "metadata": {},
   "outputs": [],
   "source": [
    "mask = outliers != -1"
   ]
  },
  {
   "cell_type": "code",
   "execution_count": 380,
   "id": "808ed1c8",
   "metadata": {},
   "outputs": [],
   "source": [
    "X_train_sc_no_outliers, y_train_no_outliers = X_train_sc[mask, :], y_train[mask]"
   ]
  },
  {
   "cell_type": "markdown",
   "id": "40cebb48",
   "metadata": {},
   "source": [
    "**XG Without outliers**"
   ]
  },
  {
   "cell_type": "code",
   "execution_count": 381,
   "id": "37c9dda3",
   "metadata": {},
   "outputs": [
    {
     "data": {
      "text/plain": [
       "XGBClassifier(base_score=0.5, booster='gbtree', callbacks=None,\n",
       "              colsample_bylevel=1, colsample_bynode=1, colsample_bytree=1,\n",
       "              early_stopping_rounds=None, enable_categorical=False, eta=0.8,\n",
       "              eval_metric=None, gamma=2, gpu_id=-1, grow_policy='depthwise',\n",
       "              importance_type=None, interaction_constraints='',\n",
       "              learning_rate=0.800000012, max_bin=256, max_cat_to_onehot=4,\n",
       "              max_delta_step=0, max_depth=2, max_leaves=0, min_child_weight=1,\n",
       "              missing=nan, monotone_constraints='()', n_estimators=100,\n",
       "              n_jobs=0, num_parallel_tree=1, predictor='auto', random_state=0,\n",
       "              reg_alpha=0.5, ...)"
      ]
     },
     "execution_count": 381,
     "metadata": {},
     "output_type": "execute_result"
    }
   ],
   "source": [
    "xg.fit(X_train_sc_no_outliers, y_train_no_outliers)"
   ]
  },
  {
   "cell_type": "code",
   "execution_count": 382,
   "id": "9f2234f4",
   "metadata": {},
   "outputs": [
    {
     "data": {
      "text/plain": [
       "0.5"
      ]
     },
     "execution_count": 382,
     "metadata": {},
     "output_type": "execute_result"
    }
   ],
   "source": [
    "xg.score(X_test_sc, y_test)"
   ]
  },
  {
   "cell_type": "code",
   "execution_count": 383,
   "id": "9a8a34c5",
   "metadata": {},
   "outputs": [
    {
     "data": {
      "text/plain": [
       "\"\\nparameters = {'nthread':[4], #when use hyperthread, xgboost may become slower\\n              'objective':['binary:logistic'],\\n              'learning_rate': [0.025,0.05,0.075], #so called `eta` value\\n              'max_depth': [2,3,4,5,6],\\n              'min_child_weight': [5,6,7,8,9],\\n              'silent': [1],\\n              'subsample': [0.8],\\n              'colsample_bytree': [0.7],\\n              'n_estimators': [1000], \\n              'missing':[-999],\\n              'seed': [1337]}\\n\\nXGB = XGBClassifier(random_state=0)\\nparameter_grid = {'learning_rate': [0.025,0.05,0.075],\\n        'min_child_weight': [1, 5, 10],\\n        'gamma': [0.5, 1, 1.5, 2, 5],\\n        'subsample': [0.6, 0.8, 1.0],\\n        'colsample_bytree': [0.6, 0.8, 1.0],\\n        'max_depth': [2, 3, 4, 5]}\\n\\ncross_validation = StratifiedKFold(n_splits=3,random_state=0,shuffle=True)\\n\\ngrid_search_XGB = GridSearchCV(XGB,\\n                           param_grid=parameter_grid,\\n                           cv=cross_validation,\\n                            n_jobs=-1,\\n                            verbose=0)\\n\\ngrid_search_XGB.fit(X_train_sc, y_train)\\nprint('Best score: {}'.format(grid_search_XGB.best_score_))\\nprint('Best parameters: {}'.format(grid_search_XGB.best_params_))\\n\""
      ]
     },
     "execution_count": 383,
     "metadata": {},
     "output_type": "execute_result"
    }
   ],
   "source": [
    "\"\"\"\n",
    "parameters = {'nthread':[4], #when use hyperthread, xgboost may become slower\n",
    "              'objective':['binary:logistic'],\n",
    "              'learning_rate': [0.025,0.05,0.075], #so called `eta` value\n",
    "              'max_depth': [2,3,4,5,6],\n",
    "              'min_child_weight': [5,6,7,8,9],\n",
    "              'silent': [1],\n",
    "              'subsample': [0.8],\n",
    "              'colsample_bytree': [0.7],\n",
    "              'n_estimators': [1000], \n",
    "              'missing':[-999],\n",
    "              'seed': [1337]}\n",
    "\n",
    "XGB = XGBClassifier(random_state=0)\n",
    "parameter_grid = {'learning_rate': [0.025,0.05,0.075],\n",
    "        'min_child_weight': [1, 5, 10],\n",
    "        'gamma': [0.5, 1, 1.5, 2, 5],\n",
    "        'subsample': [0.6, 0.8, 1.0],\n",
    "        'colsample_bytree': [0.6, 0.8, 1.0],\n",
    "        'max_depth': [2, 3, 4, 5]}\n",
    "\n",
    "cross_validation = StratifiedKFold(n_splits=3,random_state=0,shuffle=True)\n",
    "\n",
    "grid_search_XGB = GridSearchCV(XGB,\n",
    "                           param_grid=parameter_grid,\n",
    "                           cv=cross_validation,\n",
    "                            n_jobs=-1,\n",
    "                            verbose=0)\n",
    "\n",
    "grid_search_XGB.fit(X_train_sc, y_train)\n",
    "print('Best score: {}'.format(grid_search_XGB.best_score_))\n",
    "print('Best parameters: {}'.format(grid_search_XGB.best_params_))\n",
    "\"\"\""
   ]
  },
  {
   "cell_type": "code",
   "execution_count": 384,
   "id": "3eac875b",
   "metadata": {},
   "outputs": [
    {
     "data": {
      "text/plain": [
       "\"\\nxg_grid = GridSearchCV(XGBClassifier(), parameters, n_jobs=5, \\n                   cv=5, \\n                   scoring='accuracy',\\n                   verbose=2, refit=True)\\n\""
      ]
     },
     "execution_count": 384,
     "metadata": {},
     "output_type": "execute_result"
    }
   ],
   "source": [
    "\"\"\"\n",
    "xg_grid = GridSearchCV(XGBClassifier(), parameters, n_jobs=5, \n",
    "                   cv=5, \n",
    "                   scoring='accuracy',\n",
    "                   verbose=2, refit=True)\n",
    "\"\"\""
   ]
  },
  {
   "cell_type": "code",
   "execution_count": 385,
   "id": "8756a0b4",
   "metadata": {},
   "outputs": [],
   "source": [
    "#xg_grid.fit(X_train_sc, y_train)"
   ]
  },
  {
   "cell_type": "code",
   "execution_count": 386,
   "id": "ce0edb48",
   "metadata": {},
   "outputs": [],
   "source": [
    "#xg_grid.score(X_test_sc,y_test)"
   ]
  },
  {
   "cell_type": "code",
   "execution_count": 387,
   "id": "ec8a9431",
   "metadata": {},
   "outputs": [],
   "source": [
    "#xg_grid.best_params_"
   ]
  },
  {
   "cell_type": "code",
   "execution_count": 388,
   "id": "fceaed52",
   "metadata": {},
   "outputs": [
    {
     "data": {
      "image/png": "[encoded data removed]",
      "text/plain": [
       "<Figure size 640x480 with 1 Axes>"
      ]
     },
     "metadata": {},
     "output_type": "display_data"
    }
   ],
   "source": [
    "y_train.value_counts().plot(kind='bar', title='Count (target)');"
   ]
  },
  {
   "cell_type": "code",
   "execution_count": 390,
   "id": "b14d08be",
   "metadata": {},
   "outputs": [],
   "source": [
    "from imblearn.over_sampling import SMOTE\n",
    "\n"
   ]
  },
  {
   "cell_type": "code",
   "execution_count": 531,
   "id": "9e49a862",
   "metadata": {},
   "outputs": [],
   "source": [
    "smote = SMOTE(sampling_strategy='minority', n_jobs=-1,random_state=14)\n",
    "#6"
   ]
  },
  {
   "cell_type": "code",
   "execution_count": 532,
   "id": "dea7d102",
   "metadata": {},
   "outputs": [
    {
     "data": {
      "text/plain": [
       "<AxesSubplot: title={'center': 'Count (target)'}>"
      ]
     },
     "execution_count": 532,
     "metadata": {},
     "output_type": "execute_result"
    },
    {
     "data": {
      "image/png": "[encoded data removed]",
      "text/plain": [
       "<Figure size 640x480 with 1 Axes>"
      ]
     },
     "metadata": {},
     "output_type": "display_data"
    }
   ],
   "source": [
    "X_sm, y_sm = smote.fit_resample(X_train_sc, y_train)\n",
    "\n",
    "df01 = pd.DataFrame(X_sm)\n",
    "df01['target'] = y_sm\n",
    "\n",
    "df01['target'].value_counts().plot(kind='bar', title='Count (target)')"
   ]
  },
  {
   "cell_type": "code",
   "execution_count": 533,
   "id": "19a141a2",
   "metadata": {},
   "outputs": [
    {
     "data": {
      "text/plain": [
       "XGBClassifier(base_score=0.5, booster='gbtree', callbacks=None,\n",
       "              colsample_bylevel=1, colsample_bynode=1, colsample_bytree=1,\n",
       "              early_stopping_rounds=None, enable_categorical=False, eta=0.8,\n",
       "              eval_metric=None, gamma=2, gpu_id=-1, grow_policy='depthwise',\n",
       "              importance_type=None, interaction_constraints='',\n",
       "              learning_rate=0.800000012, max_bin=256, max_cat_to_onehot=4,\n",
       "              max_delta_step=0, max_depth=2, max_leaves=0, min_child_weight=1,\n",
       "              missing=nan, monotone_constraints='()', n_estimators=100,\n",
       "              n_jobs=0, num_parallel_tree=1, predictor='auto', random_state=0,\n",
       "              reg_alpha=0.5, ...)"
      ]
     },
     "execution_count": 533,
     "metadata": {},
     "output_type": "execute_result"
    }
   ],
   "source": [
    "xg.fit(X_sm,y_sm)"
   ]
  },
  {
   "cell_type": "code",
   "execution_count": 534,
   "id": "3327159c",
   "metadata": {},
   "outputs": [
    {
     "data": {
      "text/plain": [
       "0.6923076923076923"
      ]
     },
     "execution_count": 534,
     "metadata": {},
     "output_type": "execute_result"
    }
   ],
   "source": [
    "xg.score(X_test_sc,y_test)"
   ]
  },
  {
   "cell_type": "code",
   "execution_count": 535,
   "id": "1f24dcd5",
   "metadata": {},
   "outputs": [
    {
     "data": {
      "text/plain": [
       "0.7142857142857143"
      ]
     },
     "execution_count": 535,
     "metadata": {},
     "output_type": "execute_result"
    }
   ],
   "source": [
    "xg.score(X_sm,y_sm)"
   ]
  },
  {
   "cell_type": "code",
   "execution_count": 536,
   "id": "4091c5a7",
   "metadata": {},
   "outputs": [
    {
     "data": {
      "text/plain": [
       "SVC(C=1, kernel='linear')"
      ]
     },
     "execution_count": 536,
     "metadata": {},
     "output_type": "execute_result"
    }
   ],
   "source": [
    "svm2 = SVC(kernel = 'linear', C=1)\n",
    "svm2.fit(X_sm,y_sm)"
   ]
  },
  {
   "cell_type": "code",
   "execution_count": 537,
   "id": "8fe1e464",
   "metadata": {},
   "outputs": [
    {
     "data": {
      "text/plain": [
       "0.7692307692307693"
      ]
     },
     "execution_count": 537,
     "metadata": {},
     "output_type": "execute_result"
    }
   ],
   "source": [
    "svm.score(X_test_sc, y_test)"
   ]
  },
  {
   "cell_type": "code",
   "execution_count": 538,
   "id": "7dcf36b3",
   "metadata": {},
   "outputs": [
    {
     "data": {
      "text/plain": [
       "0.5982142857142857"
      ]
     },
     "execution_count": 538,
     "metadata": {},
     "output_type": "execute_result"
    }
   ],
   "source": [
    "svm.score(X_sm, y_sm)"
   ]
  },
  {
   "cell_type": "code",
   "execution_count": null,
   "id": "0c949a22",
   "metadata": {},
   "outputs": [],
   "source": []
  },
  {
   "cell_type": "code",
   "execution_count": null,
   "id": "53da7111",
   "metadata": {},
   "outputs": [],
   "source": []
  }
 ],
 "metadata": {
  "kernelspec": {
   "display_name": "Python 3 (ipykernel)",
   "language": "python",
   "name": "python3"
  },
  "language_info": {
   "codemirror_mode": {
    "name": "ipython",
    "version": 3
   },
   "file_extension": ".py",
   "mimetype": "text/x-python",
   "name": "python",
   "nbconvert_exporter": "python",
   "pygments_lexer": "ipython3",
   "version": "3.8.13"
  }
 },
 "nbformat": 4,
 "nbformat_minor": 5
}
