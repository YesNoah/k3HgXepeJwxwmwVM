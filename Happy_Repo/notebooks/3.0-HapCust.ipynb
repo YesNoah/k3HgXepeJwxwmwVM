{
 "cells": [
  {
   "cell_type": "code",
   "execution_count": 1,
   "id": "a78ccea8",
   "metadata": {},
   "outputs": [],
   "source": [
    "import numpy as np\n",
    "import pandas as pd\n",
    "import matplotlib.pyplot as plt\n",
    "import seaborn as sns\n",
    "import warnings\n",
    "import statsmodels.api as sm\n",
    "import scipy.stats as stats\n",
    "import sklearn\n",
    "from sklearn.model_selection import train_test_split\n",
    "from sklearn.model_selection import KFold\n",
    "\n",
    "from sklearn.pipeline import Pipeline\n",
    "\n",
    "from sklearn.preprocessing import StandardScaler\n",
    "from sklearn import decomposition\n",
    "from sklearn.preprocessing import PowerTransformer\n",
    "\n",
    "from sklearn.model_selection import RandomizedSearchCV\n",
    "from sklearn.model_selection import GridSearchCV\n",
    "\n",
    "from sklearn.svm import SVC\n",
    "from sklearn.neighbors import KNeighborsClassifier\n",
    "from sklearn.ensemble import GradientBoostingClassifier\n",
    "from sklearn.linear_model import LogisticRegression\n",
    "from sklearn.ensemble import RandomForestClassifier\n",
    "from sklearn.neighbors import KNeighborsClassifier\n",
    "from sklearn.ensemble import AdaBoostClassifier\n",
    "from sklearn.tree import DecisionTreeClassifier\n",
    "from sklearn.naive_bayes import GaussianNB\n",
    "from sklearn.ensemble import VotingClassifier\n",
    "\n",
    "from sklearn.metrics import confusion_matrix\n",
    "from sklearn.metrics import accuracy_score\n",
    "from sklearn.metrics import classification_report\n",
    "from sklearn.model_selection import cross_val_score\n",
    "\n",
    "from sklearn.feature_selection import SelectKBest\n",
    "from sklearn.feature_selection import f_classif\n",
    "from imblearn.over_sampling import SMOTE"
   ]
  },
  {
   "cell_type": "code",
   "execution_count": 2,
   "id": "ecaf07a2",
   "metadata": {},
   "outputs": [
    {
     "name": "stdout",
     "output_type": "stream",
     "text": [
      "C:\\Users\\noahc\\Jupyter\\FirstSteps\n"
     ]
    }
   ],
   "source": [
    "%cd C:\\Users\\noahc\\Jupyter\\FirstSteps"
   ]
  },
  {
   "cell_type": "code",
   "execution_count": 3,
   "id": "d3fdaedb",
   "metadata": {},
   "outputs": [
    {
     "data": {
      "text/html": [
       "<div>\n",
       "<style scoped>\n",
       "    .dataframe tbody tr th:only-of-type {\n",
       "        vertical-align: middle;\n",
       "    }\n",
       "\n",
       "    .dataframe tbody tr th {\n",
       "        vertical-align: top;\n",
       "    }\n",
       "\n",
       "    .dataframe thead th {\n",
       "        text-align: right;\n",
       "    }\n",
       "</style>\n",
       "<table border=\"1\" class=\"dataframe\">\n",
       "  <thead>\n",
       "    <tr style=\"text-align: right;\">\n",
       "      <th></th>\n",
       "      <th>Y</th>\n",
       "      <th>X1</th>\n",
       "      <th>X2</th>\n",
       "      <th>X3</th>\n",
       "      <th>X4</th>\n",
       "      <th>X5</th>\n",
       "      <th>X6</th>\n",
       "    </tr>\n",
       "  </thead>\n",
       "  <tbody>\n",
       "    <tr>\n",
       "      <th>0</th>\n",
       "      <td>0</td>\n",
       "      <td>3</td>\n",
       "      <td>3</td>\n",
       "      <td>3</td>\n",
       "      <td>4</td>\n",
       "      <td>2</td>\n",
       "      <td>4</td>\n",
       "    </tr>\n",
       "    <tr>\n",
       "      <th>1</th>\n",
       "      <td>0</td>\n",
       "      <td>3</td>\n",
       "      <td>2</td>\n",
       "      <td>3</td>\n",
       "      <td>5</td>\n",
       "      <td>4</td>\n",
       "      <td>3</td>\n",
       "    </tr>\n",
       "    <tr>\n",
       "      <th>2</th>\n",
       "      <td>1</td>\n",
       "      <td>5</td>\n",
       "      <td>3</td>\n",
       "      <td>3</td>\n",
       "      <td>3</td>\n",
       "      <td>3</td>\n",
       "      <td>5</td>\n",
       "    </tr>\n",
       "    <tr>\n",
       "      <th>3</th>\n",
       "      <td>0</td>\n",
       "      <td>5</td>\n",
       "      <td>4</td>\n",
       "      <td>3</td>\n",
       "      <td>3</td>\n",
       "      <td>3</td>\n",
       "      <td>5</td>\n",
       "    </tr>\n",
       "    <tr>\n",
       "      <th>4</th>\n",
       "      <td>0</td>\n",
       "      <td>5</td>\n",
       "      <td>4</td>\n",
       "      <td>3</td>\n",
       "      <td>3</td>\n",
       "      <td>3</td>\n",
       "      <td>5</td>\n",
       "    </tr>\n",
       "  </tbody>\n",
       "</table>\n",
       "</div>"
      ],
      "text/plain": [
       "   Y  X1  X2  X3  X4  X5  X6\n",
       "0  0   3   3   3   4   2   4\n",
       "1  0   3   2   3   5   4   3\n",
       "2  1   5   3   3   3   3   5\n",
       "3  0   5   4   3   3   3   5\n",
       "4  0   5   4   3   3   3   5"
      ]
     },
     "execution_count": 3,
     "metadata": {},
     "output_type": "execute_result"
    }
   ],
   "source": [
    "df = pd.read_csv('ACME-HappinessSurvey2020.csv')\n",
    "df.head()"
   ]
  },
  {
   "cell_type": "code",
   "execution_count": 4,
   "id": "66c8da1d",
   "metadata": {},
   "outputs": [
    {
     "name": "stdout",
     "output_type": "stream",
     "text": [
      "Total Features  ['X1' 'X2' 'X3' 'X4' 'X5' 'X6']\n",
      "Selected Features for training  ['X1' 'X3' 'X5' 'X6']\n"
     ]
    }
   ],
   "source": [
    "#Slicing for feature selection with stats measures\n",
    "sliced_features = df.iloc[:,1:7]\n",
    "sliced_labels = df['Y']\n",
    "sliced_features.head()\n",
    "\n",
    "#feature selection\n",
    "fs = SelectKBest(score_func=f_classif, k=4)\n",
    "X_selected = fs.fit_transform(sliced_features, sliced_labels)\n",
    "\n",
    "#Checking which features where selected\n",
    "filter = fs.get_support()\n",
    "feat = np.array(sliced_features.columns)\n",
    "print('Total Features ', feat)\n",
    "print('Selected Features for training ',feat[filter])\n",
    "\n",
    "#removing outliers\n",
    "#only keep rows in dataframe with all z-scores less than absolute value of 3 \n",
    "z = np.abs(stats.zscore(X_selected))\n",
    "X_clean = X_selected[(z<3).all(axis=1)]\n",
    "y_clean = sliced_labels[(z<3).all(axis=1)]\n",
    "\n",
    "#Balancing Dataset\n",
    "#sm = SMOTE()\n",
    "#X_clean, y_clean = sm.fit_resample(X_clean, y_clean)\n",
    "\n",
    "#scale and normalize the dataset\n",
    "scaling = StandardScaler()\n",
    "X_clean = scaling.fit_transform(X_clean)"
   ]
  },
  {
   "cell_type": "code",
   "execution_count": 5,
   "id": "267d6345",
   "metadata": {},
   "outputs": [],
   "source": [
    "#train test split\n",
    "X_train,X_test,y_train,y_test = train_test_split(X_clean,y_clean,random_state=42)"
   ]
  },
  {
   "cell_type": "code",
   "execution_count": 6,
   "id": "9dafdc8b",
   "metadata": {},
   "outputs": [
    {
     "name": "stdout",
     "output_type": "stream",
     "text": [
      "(106, 4)\n",
      "(32, 4)\n"
     ]
    }
   ],
   "source": [
    "sm = SMOTE()\n",
    "X_train, y_train = sm.fit_resample(X_train, y_train)\n",
    "X_test, y_test = sm.fit_resample(X_test, y_test)\n",
    "print(X_train.shape)\n",
    "print(X_test.shape)"
   ]
  },
  {
   "cell_type": "code",
   "execution_count": 7,
   "id": "411facc9",
   "metadata": {},
   "outputs": [
    {
     "name": "stdout",
     "output_type": "stream",
     "text": [
      "              precision    recall  f1-score   support\n",
      "\n",
      "           0       0.53      0.56      0.55        16\n",
      "           1       0.53      0.50      0.52        16\n",
      "\n",
      "    accuracy                           0.53        32\n",
      "   macro avg       0.53      0.53      0.53        32\n",
      "weighted avg       0.53      0.53      0.53        32\n",
      "\n",
      "\n",
      "Best Parameters of Decision Tree model are : {'criterion': 'gini', 'max_depth': 2}\n",
      "\n"
     ]
    },
    {
     "data": {
      "image/png": "[encoded data removed]",
      "text/plain": [
       "<Figure size 800x800 with 2 Axes>"
      ]
     },
     "metadata": {},
     "output_type": "display_data"
    }
   ],
   "source": [
    "param_grid={ 'criterion':['gini', 'entropy'], 'max_depth':[2,4,6,8,10,12]}\n",
    "dtc=GridSearchCV(DecisionTreeClassifier(),param_grid,cv=5)\n",
    "dtc.fit(X_train,y_train)\n",
    "y_pred_dtc=dtc.predict(X_test)\n",
    "confusion_dtc=confusion_matrix(y_test,dtc.predict(X_test))\n",
    "plt.figure(figsize=(8,8))\n",
    "sns.heatmap(confusion_dtc,annot=True)\n",
    "plt.xlabel(\"Predicted\")\n",
    "plt.ylabel(\"Actual\")\n",
    "print(classification_report(y_test,y_pred_dtc))\n",
    "print(f'\\nBest Parameters of Decision Tree model are : {dtc.best_params_}\\n')"
   ]
  },
  {
   "cell_type": "code",
   "execution_count": 8,
   "id": "9b7553ec",
   "metadata": {},
   "outputs": [
    {
     "name": "stdout",
     "output_type": "stream",
     "text": [
      "              precision    recall  f1-score   support\n",
      "\n",
      "           0       0.73      0.50      0.59        16\n",
      "           1       0.62      0.81      0.70        16\n",
      "\n",
      "    accuracy                           0.66        32\n",
      "   macro avg       0.67      0.66      0.65        32\n",
      "weighted avg       0.67      0.66      0.65        32\n",
      "\n",
      "\n",
      "Best Parameter: {'criterion': 'gini', 'max_depth': 6, 'max_features': 'log2', 'n_estimators': 300}\n",
      "\n"
     ]
    },
    {
     "data": {
      "image/png": "[encoded data removed]",
      "text/plain": [
       "<Figure size 800x800 with 2 Axes>"
      ]
     },
     "metadata": {},
     "output_type": "display_data"
    }
   ],
   "source": [
    "param_grid = {\n",
    "    'n_estimators': [50, 75,100, 150, 200,300],\n",
    "    'max_features': ['auto', 'sqrt', 'log2'],\n",
    "    'max_depth' : [4,5,6,7,8,16],\n",
    "    'criterion' :['gini', 'entropy']\n",
    "}\n",
    "rfc=GridSearchCV(RandomForestClassifier(),param_grid,cv=5)\n",
    "rfc.fit(X_train,y_train)\n",
    "y_pred_rfc=rfc.predict(X_test)\n",
    "confusion_rfc=confusion_matrix(y_test,rfc.predict(X_test))\n",
    "plt.figure(figsize=(8,8))\n",
    "sns.heatmap(confusion_rfc,annot=True)\n",
    "plt.xlabel(\"Predicted\")\n",
    "plt.ylabel(\"Actual\")\n",
    "print(classification_report(y_test,y_pred_rfc))\n",
    "print(f'\\nBest Parameter: {rfc.best_params_}\\n')"
   ]
  },
  {
   "cell_type": "code",
   "execution_count": 9,
   "id": "d53fbabc",
   "metadata": {},
   "outputs": [
    {
     "name": "stdout",
     "output_type": "stream",
     "text": [
      "              precision    recall  f1-score   support\n",
      "\n",
      "           0       0.73      0.50      0.59        16\n",
      "           1       0.62      0.81      0.70        16\n",
      "\n",
      "    accuracy                           0.66        32\n",
      "   macro avg       0.67      0.66      0.65        32\n",
      "weighted avg       0.67      0.66      0.65        32\n",
      "\n",
      "\n",
      "Best Parameter: {'learning_rate': 0.05, 'n_estimators': 75}\n",
      "\n"
     ]
    },
    {
     "data": {
      "image/png": "[encoded data removed]",
      "text/plain": [
       "<Figure size 800x800 with 2 Axes>"
      ]
     },
     "metadata": {},
     "output_type": "display_data"
    }
   ],
   "source": [
    "param_grid = {\n",
    "    'learning_rate' : [0.05, 0.075, 0.1, 0.25, 0.5, 0.75, 1],\n",
    "    'n_estimators': [50, 75,100, 150, 200,300],\n",
    "}\n",
    "\n",
    "gbc=GridSearchCV(GradientBoostingClassifier(),param_grid,cv=5)\n",
    "gbc.fit(X_train,y_train)\n",
    "y_pred_gbc=gbc.predict(X_test)\n",
    "confusion_gbc=confusion_matrix(y_test,y_pred_gbc)\n",
    "plt.figure(figsize=(8,8))\n",
    "sns.heatmap(confusion_gbc,annot=True)\n",
    "plt.xlabel(\"Predicted\")\n",
    "plt.ylabel(\"Actual\")\n",
    "print(classification_report(y_test,y_pred_gbc))\n",
    "print(f'\\nBest Parameter: {gbc.best_params_}\\n')"
   ]
  },
  {
   "cell_type": "code",
   "execution_count": 13,
   "id": "9b58c6e9",
   "metadata": {},
   "outputs": [
    {
     "name": "stdout",
     "output_type": "stream",
     "text": [
      "              precision    recall  f1-score   support\n",
      "\n",
      "           0       0.75      0.56      0.64        16\n",
      "           1       0.65      0.81      0.72        16\n",
      "\n",
      "    accuracy                           0.69        32\n",
      "   macro avg       0.70      0.69      0.68        32\n",
      "weighted avg       0.70      0.69      0.68        32\n",
      "\n"
     ]
    },
    {
     "data": {
      "image/png": "[encoded data removed]",
      "text/plain": [
       "<Figure size 800x800 with 2 Axes>"
      ]
     },
     "metadata": {},
     "output_type": "display_data"
    }
   ],
   "source": [
    "estimator = []\n",
    "estimator.append(('RFC', \n",
    "                   RandomForestClassifier(criterion='gini', n_estimators=150, max_features='log2', max_depth= 6)))\n",
    "estimator.append(('DTC', DecisionTreeClassifier(criterion='gini', max_depth=10)))\n",
    "estimator.append(('GBC', GradientBoostingClassifier(n_estimators=50, learning_rate=0.05)))\n",
    "            \n",
    "vot_hard = VotingClassifier(estimators = estimator, voting ='hard')\n",
    "vot_hard.fit(X_train,y_train)\n",
    "y_pred= vot_hard.predict(X_test)\n",
    "confusion=confusion_matrix(y_test,y_pred)\n",
    "plt.figure(figsize=(8,8))\n",
    "sns.heatmap(confusion,annot=True)\n",
    "plt.xlabel(\"Predicted\")\n",
    "plt.ylabel(\"Actual\")\n",
    "print(classification_report(y_test,y_pred))"
   ]
  },
  {
   "cell_type": "code",
   "execution_count": null,
   "id": "cb94b042",
   "metadata": {},
   "outputs": [],
   "source": []
  }
 ],
 "metadata": {
  "kernelspec": {
   "display_name": "Python 3 (ipykernel)",
   "language": "python",
   "name": "python3"
  },
  "language_info": {
   "codemirror_mode": {
    "name": "ipython",
    "version": 3
   },
   "file_extension": ".py",
   "mimetype": "text/x-python",
   "name": "python",
   "nbconvert_exporter": "python",
   "pygments_lexer": "ipython3",
   "version": "3.8.13"
  }
 },
 "nbformat": 4,
 "nbformat_minor": 5
}
